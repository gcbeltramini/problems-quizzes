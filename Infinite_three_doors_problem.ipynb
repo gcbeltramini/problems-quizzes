{
 "cells": [
  {
   "cell_type": "markdown",
   "metadata": {
    "toc": true
   },
   "source": [
    "<h1>Table of Contents<span class=\"tocSkip\"></span></h1>\n",
    "<div class=\"toc\"><ul class=\"toc-item\"><li><span><a href=\"#Problem\" data-toc-modified-id=\"Problem-1\"><span class=\"toc-item-num\">1&nbsp;&nbsp;</span>Problem</a></span></li><li><span><a href=\"#Algebraic-solution\" data-toc-modified-id=\"Algebraic-solution-2\"><span class=\"toc-item-num\">2&nbsp;&nbsp;</span>Algebraic solution</a></span></li><li><span><a href=\"#Simulation\" data-toc-modified-id=\"Simulation-3\"><span class=\"toc-item-num\">3&nbsp;&nbsp;</span>Simulation</a></span></li></ul></div>"
   ]
  },
  {
   "cell_type": "markdown",
   "metadata": {},
   "source": [
    "# Problem\n",
    "\n",
    "In this game, you have to exit a room. There are 3 doors:\n",
    "1. If you go through door A, you exit in `t_0` seconds, and the game is over;\n",
    "1. If you go through door B, you go back to the same room (but with the doors shuffled) in `t_1` seconds;\n",
    "1. If you go through door C, you go back to the same room (but with the doors shuffled) in `t_2` seconds.\n",
    "\n",
    "You don't know which door is A, B or C.\n",
    "\n",
    "What is the expected time to finish the game?"
   ]
  },
  {
   "cell_type": "markdown",
   "metadata": {},
   "source": [
    "# Algebraic solution\n",
    "\n",
    "Probability of exiting after opening:\n",
    "- 1 door: $P[d=1] = \\frac{1}{3}$\n",
    "- 2 doors: $P[d=2] = \\frac{2}{3}\\frac{1}{3}$\n",
    "- 3 doors: $P[d=3] = \\left(\\frac{2}{3}\\right)^2\\frac{1}{3}$\n",
    "- ...\n",
    "- $n$ doors: $P[d=n] = \\left(\\frac{2}{3}\\right)^{n-1}\\frac{1}{3}$\n",
    "\n",
    "For simplicity, let's first assume that `t_1` = `t_2`.\n",
    "\n",
    "Expected time to exit after opening:\n",
    "- 1 door: $T[d=1] = t_0$\n",
    "- 2 doors: $T[d=2] = t_1 + t_0$\n",
    "- 3 doors: $T[d=3] = 2 t_1 + t_0$\n",
    "- ...\n",
    "- $n$ doors: $T[d=n] = (n-1)t_1 + t_0$\n",
    "\n",
    "$$ \\begin{align}\n",
    "E[t] & = \\sum_{n=1}^\\infty{P[d=n]T[d=n]} \\\\\n",
    "     & = \\sum_{n=1}^\\infty{\\left(\\frac{2}{3}\\right)^{n-1}\\frac{1}{3} \\left((n-1)t_1 + t_0\\right)} \\\\\n",
    "     & = \\frac{1}{3} \\times \\left[ t_1 \\times \\sum_{n=1}^\\infty{ \\left(\\frac{2}{3}\\right)^{n-1} (n-1) } + t_0 \\times \\sum_{n=1}^\\infty{\\left(\\frac{2}{3}\\right)^{n-1}} \\right]\n",
    "\\end{align} $$\n",
    "\n",
    "Let's define: $S(f) \\equiv \\sum_{n=1}^\\infty{f^{n-1}}$, and we want $S\\left(\\frac{2}{3}\\right)$.\n",
    "\n",
    "$$f S(f) = \\sum_{n=1}^\\infty{f^{n}} = \\sum_{n=2}^\\infty{f^{n-1}} = \\sum_{n=1}^\\infty{f^{n-1}} - f^{1-1} = S(f) - 1$$\n",
    "\n",
    "Therefore: $S(f) = \\frac{1}{1-f} \\implies S\\left(\\frac{2}{3}\\right) = 3$\n",
    "\n",
    "For the other sum, we need (also with $f = \\frac{2}{3}$):\n",
    "\n",
    "$$\n",
    "\\sum_{n=1}^\\infty{(n-1)f^{n-1}} = f \\sum_{n=1}^\\infty{(n-1)f^{n-2}} = f \\frac{dS(f)}{df} = f \\frac{d}{df} \\left( \\frac{1}{1-f} \\right) = f \\frac{1}{(1-f)^2} = 6 \\text{ (for $f=2/3$)}\n",
    "$$\n",
    "\n",
    "Therefore:\n",
    "\n",
    "$$\n",
    "\\boxed{E[t] = \\frac{1}{3} \\times [ 6 t_1 + 3 t_0 ] = 2 t_1 + t_0}\n",
    "$$\n",
    "\n",
    "If there are $D$ doors, $f = \\frac{2}{3} \\rightarrow f = \\frac{D-1}{D}$, and $1 - f = \\frac{1}{3} \\rightarrow 1 - f = \\frac{1}{D}$. Therefore:\n",
    "\n",
    "$$\n",
    "E[t; D] = (1-f) \\times \\left[ t_1 \\times f \\frac{1}{(1-f)^2} + t_0 \\times \\frac{1}{1-f} \\right] = t_1 \\times \\frac{f}{1-f} + t_0\n",
    "$$\n",
    "$$\n",
    "\\boxed{E[t; D] = (D-1) t_1 + t_0}\n",
    "$$\n",
    "\n",
    "When $t_1 \\neq t_2$, the expected time to exit after opening:\n",
    "- 1 door: $T[d=1] = t_0$\n",
    "- 2 doors: $T[d=2] = t_0 + (t_1+t_2)/2$\n",
    "- 3 doors: $T[d=3] = t_0 + (t_1+t_1)/4 + (t_1+t_2)/4 + (t_2+t_1)/4 + (t_2+t_2)/4 = t_0 + 1/2^2 \\times \\left[ 2\\binom{2}{2} + 1\\binom{2}{1} \\right] \\times (t_1 + t_2) $\n",
    "- 4 doors: $T[d=4] = t_0 + (t_1+t_1+t_1)/8 + (t_1+t_1+t_2)/8 + (t_1+t_2+t_1)/8 + (t_1+t_2+t_2)/8 + (t_2+t_1+t_1)/8 + (t_2+t_1+t_2)/8 + (t_2+t_2+t_1)/8 + (t_2+t_2+t_2)/8 = t_0 + 1/2^3 \\times \\left[ 3\\binom{3}{3} + 2\\binom{3}{2} + 1\\binom{3}{1} \\right] \\times (t_1 + t_2)$\n",
    "- ...\n",
    "- $n$ doors: $T[d=n] = t_0 + 1/2^{n-1} \\times \\left[ \\sum_{k=1}^{n-1}{k\\binom{n-1}{k}} \\right] \\times (t_1 + t_2)$\n",
    "\n",
    "Let's calculate:\n",
    "\n",
    "$$ \\begin{align}\n",
    "S_n & \\equiv \\sum_{k=1}^{n-1}{k\\binom{n-1}{k}} \\\\\n",
    "    & = \\sum_{k=1}^{n-1}{k\\frac{(n-1)!}{k!(n-1-k)!}} \\\\\n",
    "    & = (n-1) \\sum_{k=1}^{n-1}{\\frac{(n-2)!}{(k-1)!(n-1-k)!}} \\\\\n",
    "    & = (n-1) \\sum_{k=1}^{n-1}{\\binom{n-2}{k-1}} \\\\\n",
    "    & = (n-1) \\sum_{k=0}^{n-2}{\\binom{n-2}{k}} \\\\\n",
    "    & = (n-1) 2^{n-2}\n",
    "\\end{align} $$\n",
    "\n",
    "Therefore:\n",
    "\n",
    "$$ \\begin{align}\n",
    "E[t] & = \\sum_{n=1}^\\infty{P[d=n]T[d=n]} \\\\\n",
    "     & = \\sum_{n=1}^\\infty{\\left(\\frac{2}{3}\\right)^{n-1}\\frac{1}{3} \\left(t_0 + 1/2^{n-1} \\times (n-1) 2^{n-2} \\times (t_1 + t_2) \\right) } \\\\\n",
    "     & = \\frac{1}{3} t_0 \\sum_{n=1}^\\infty{ \\left(\\frac{2}{3}\\right)^{n-1} } + \\frac{t_1 + t_2}{3 \\times 2} \\sum_{n=1}^\\infty{ (n-1)\\left(\\frac{2}{3}\\right)^{n-1} } \\\\\n",
    "     & = \\frac{1}{3} t_0 3 + \\frac{t_1 + t_2}{6} 6\n",
    "\\end{align} $$\n",
    "\n",
    "Finally:\n",
    "$$\n",
    "\\boxed{E[t] = t_0 + t_1 + t_2}\n",
    "$$"
   ]
  },
  {
   "cell_type": "markdown",
   "metadata": {},
   "source": [
    "# Simulation"
   ]
  },
  {
   "cell_type": "code",
   "execution_count": 1,
   "metadata": {},
   "outputs": [],
   "source": [
    "# Import libraries\n",
    "\n",
    "import matplotlib.pyplot as plt\n",
    "import numpy as np\n",
    "from typing import List"
   ]
  },
  {
   "cell_type": "code",
   "execution_count": 2,
   "metadata": {},
   "outputs": [],
   "source": [
    "doors_time = [5, 23, 50, 189, 38]\n",
    "N_simulations = 10000\n",
    "\n",
    "N_doors = len(doors_time)\n",
    "\n",
    "\n",
    "def time_to_leave(rand: np.random.RandomState,\n",
    "                  t: float = 0,\n",
    "                  N_doors: int = N_doors,\n",
    "                  times: List[float] = doors_time) -> float:\n",
    "    door = rand.choice(N_doors)\n",
    "    if door == 0:\n",
    "        return t + times[door]\n",
    "    else:\n",
    "        return time_to_leave(rand, t=t + times[door])\n",
    "\n",
    "\n",
    "times = [time_to_leave(np.random.RandomState(seed=ss))\n",
    "         for ss in range(N_simulations)]"
   ]
  },
  {
   "cell_type": "code",
   "execution_count": 3,
   "metadata": {},
   "outputs": [
    {
     "name": "stdout",
     "output_type": "stream",
     "text": [
      "Expected value (simulation) = 304.608800\n",
      "Expected value (theory)     = 305.000000\n"
     ]
    }
   ],
   "source": [
    "avg_simulation = sum(times) / len(times)\n",
    "avg_theory = sum(doors_time)\n",
    "\n",
    "print(f'Expected value (simulation) = {avg_simulation:f}')\n",
    "print(f'Expected value (theory)     = {avg_theory:f}')"
   ]
  },
  {
   "cell_type": "code",
   "execution_count": 4,
   "metadata": {},
   "outputs": [
    {
     "data": {
      "image/png": "[encoded data removed]",
      "text/plain": [
       "<Figure size 432x288 with 1 Axes>"
      ]
     },
     "metadata": {
      "needs_background": "light"
     },
     "output_type": "display_data"
    }
   ],
   "source": [
    "fig, ax = plt.subplots()\n",
    "\n",
    "ax.hist(times, weights=np.ones_like(times)/len(times))\n",
    "ax.grid(True)\n",
    "ax.set_axisbelow(True)\n",
    "\n",
    "ax.set_xlabel('Time', fontsize=16)\n",
    "ax.set_ylabel('Probability inside the bin', fontsize=16);"
   ]
  }
 ],
 "metadata": {
  "hide_input": false,
  "kernelspec": {
   "display_name": "Python 3",
   "language": "python",
   "name": "python3"
  },
  "language_info": {
   "codemirror_mode": {
    "name": "ipython",
    "version": 3
   },
   "file_extension": ".py",
   "mimetype": "text/x-python",
   "name": "python",
   "nbconvert_exporter": "python",
   "pygments_lexer": "ipython3",
   "version": "3.7.6"
  },
  "toc": {
   "base_numbering": 1,
   "nav_menu": {},
   "number_sections": true,
   "sideBar": true,
   "skip_h1_title": false,
   "title_cell": "Table of Contents",
   "title_sidebar": "Contents",
   "toc_cell": true,
   "toc_position": {},
   "toc_section_display": true,
   "toc_window_display": false
  },
  "varInspector": {
   "cols": {
    "lenName": 16,
    "lenType": 16,
    "lenVar": 40
   },
   "kernels_config": {
    "python": {
     "delete_cmd_postfix": "",
     "delete_cmd_prefix": "del ",
     "library": "var_list.py",
     "varRefreshCmd": "print(var_dic_list())"
    },
    "r": {
     "delete_cmd_postfix": ") ",
     "delete_cmd_prefix": "rm(",
     "library": "var_list.r",
     "varRefreshCmd": "cat(var_dic_list()) "
    }
   },
   "types_to_exclude": [
    "module",
    "function",
    "builtin_function_or_method",
    "instance",
    "_Feature"
   ],
   "window_display": false
  }
 },
 "nbformat": 4,
 "nbformat_minor": 2
}
